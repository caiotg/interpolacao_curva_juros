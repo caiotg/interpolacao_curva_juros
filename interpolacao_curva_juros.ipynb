{
 "cells": [
  {
   "cell_type": "code",
   "execution_count": 47,
   "metadata": {},
   "outputs": [],
   "source": [
    "from selenium import webdriver\n",
    "from selenium.webdriver.chrome.service import Service\n",
    "from webdriver_manager.chrome import ChromeDriverManager\n",
    "import pandas as pd\n",
    "from datetime import datetime\n",
    "from pandas.tseries.offsets import *\n",
    "\n",
    "from scipy import interpolate\n",
    "import mplcyberpunk\n",
    "import matplotlib.pyplot as plt\n",
    "\n",
    "plt.style.use(\"cyberpunk\")"
   ]
  },
  {
   "cell_type": "code",
   "execution_count": 34,
   "metadata": {},
   "outputs": [],
   "source": [
    "driver = webdriver.Chrome(service=Service(ChromeDriverManager().install()))\n",
    "\n",
    "dataDi = \"06/03/2019\"\n",
    "\n",
    "url = f'''\n",
    "https://www2.bmf.com.br/pages/portal/bmfbovespa/boletim1/SistemaPregao1.asp?pagetype=pop&caminho=Resumo%20\n",
    "Estat%EDstico%20-%20Sistema%20Preg%E3o&Data={dataDi}&Mercadoria=DI1\n",
    "'''\n",
    "\n",
    "driver.get(url)\n",
    "\n",
    "elementoIndice = driver.find_element('xpath', '/html/body/div/div[2]/form[1]/table[3]/tbody/tr[3]/td[1]/table')\n",
    "elementoTabela = driver.find_element('xpath', '/html/body/div/div[2]/form[1]/table[3]/tbody/tr[3]/td[3]/table')\n",
    "\n",
    "htmlIndice = elementoIndice.get_attribute('outerHTML')\n",
    "htmlTabela = elementoTabela.get_attribute('outerHTML')\n",
    "\n",
    "indice = pd.read_html(htmlIndice)[0]\n",
    "tabela = pd.read_html(htmlTabela)[0]\n",
    "\n",
    "driver.quit()\n",
    "\n",
    "indice.columns = indice.iloc[0]\n",
    "indice = indice.drop(0, axis=0)\n",
    "\n",
    "tabela.columns = tabela.iloc[0]\n",
    "tabela = tabela.drop(0, axis=0)\n",
    "tabela = tabela['ÚLT. PREÇO']\n",
    "tabela.index = indice['VENCTO']\n",
    "tabela = tabela.astype(int)\n",
    "tabela = tabela[tabela != 0]\n",
    "tabela = tabela/1000\n"
   ]
  },
  {
   "cell_type": "code",
   "execution_count": 40,
   "metadata": {},
   "outputs": [
    {
     "data": {
      "text/plain": [
       "2019-04-01    6.405\n",
       "2019-05-01    6.410\n",
       "2019-06-01    6.429\n",
       "2019-07-01    6.420\n",
       "2019-08-01    6.410\n",
       "2019-09-01    6.430\n",
       "2019-10-01    6.450\n",
       "2019-11-01    6.450\n",
       "2019-12-01    6.455\n",
       "2020-01-01    6.480\n",
       "2020-02-01    6.535\n",
       "2020-03-01    6.540\n",
       "2020-04-01    6.610\n",
       "2020-07-01    6.780\n",
       "2020-10-01    7.010\n",
       "2021-01-01    7.190\n",
       "2021-04-01    7.390\n",
       "2021-07-01    7.560\n",
       "2021-10-01    7.730\n",
       "2022-01-01    7.870\n",
       "2022-04-01    8.010\n",
       "2022-07-01    8.130\n",
       "2022-10-01    8.240\n",
       "2023-01-01    8.340\n",
       "2023-04-01    8.430\n",
       "2023-07-01    8.530\n",
       "2024-01-01    8.680\n",
       "2024-07-01    8.810\n",
       "2025-01-01    8.900\n",
       "2025-07-01    8.980\n",
       "2026-01-01    9.060\n",
       "2026-07-01    9.060\n",
       "2027-01-01    9.220\n",
       "2028-01-01    9.330\n",
       "2029-01-01    9.350\n",
       "Name: ÚLT. PREÇO, dtype: float64"
      ]
     },
     "execution_count": 40,
     "metadata": {},
     "output_type": "execute_result"
    }
   ],
   "source": [
    "legenda = pd.Series(['Jan', 'Feb', 'Mar', 'Apr', 'May', 'Jun', 'Jul', 'Aug', 'Sep', 'Oct', 'Nov', 'Dec'],\n",
    "                    index = ['F', 'G', 'H', 'J', 'K', 'M', 'N', 'Q', 'U', 'V', 'X', 'Z'])\n",
    "\n",
    "listaDatas = []\n",
    "\n",
    "for indice in tabela.index:\n",
    "\n",
    "    letra = indice[0]\n",
    "\n",
    "    ano = indice[1:3]\n",
    "    mes = legenda[letra]\n",
    "\n",
    "    data = f'{mes}-{ano}'\n",
    "    data = datetime.strptime(data, '%b-%y')\n",
    "\n",
    "    listaDatas.append(data)\n",
    "\n",
    "tabela.index = listaDatas\n",
    "\n",
    "tabela"
   ]
  },
  {
   "cell_type": "code",
   "execution_count": 61,
   "metadata": {},
   "outputs": [
    {
     "data": {
      "text/plain": [
       "1628"
      ]
     },
     "execution_count": 61,
     "metadata": {},
     "output_type": "execute_result"
    }
   ],
   "source": [
    "curvaDiasUteis = []\n",
    "\n",
    "diaAtual = datetime(2019,3,6)\n",
    "\n",
    "for dia in tabela.index:\n",
    "\n",
    "    diasUteis = len(pd.date_range(diaAtual, dia, freq=BDay()))\n",
    "    curvaDiasUteis.append(diasUteis)\n",
    "\n",
    "\n",
    "taxas = tabela.values\n",
    "taxas = list(taxas)\n",
    "\n",
    "diasUteisDaquiParaData = len(pd.date_range(diaAtual, datetime(2025,5,31), freq=BDay()))\n",
    "\n",
    "diasUteisDaquiParaData"
   ]
  },
  {
   "cell_type": "code",
   "execution_count": 58,
   "metadata": {},
   "outputs": [
    {
     "data": {
      "text/plain": [
       "[8.964347913330041, 7.321482679581762, 6.914270584606427, 9.325466815245095]"
      ]
     },
     "execution_count": 58,
     "metadata": {},
     "output_type": "execute_result"
    }
   ],
   "source": [
    "diasNovos = [diasUteisDaquiParaData, 520, 385, 2200]\n",
    "\n",
    "cubica = interpolate.interp1d(curvaDiasUteis, taxas, kind= 'cubic')\n",
    "taxaCubica = list(cubica(diasNovos))\n",
    "\n",
    "taxaCubica"
   ]
  },
  {
   "cell_type": "code",
   "execution_count": 60,
   "metadata": {},
   "outputs": [
    {
     "data": {
      "text/plain": [
       "<matplotlib.collections.PathCollection at 0x290e69ca1d0>"
      ]
     },
     "execution_count": 60,
     "metadata": {},
     "output_type": "execute_result"
    },
    {
     "data": {
      "image/png": "[encoded data removed]",
      "text/plain": [
       "<Figure size 640x480 with 1 Axes>"
      ]
     },
     "metadata": {},
     "output_type": "display_data"
    }
   ],
   "source": [
    "fig, ax = plt.subplots()\n",
    "ax.scatter(curvaDiasUteis, taxas)\n",
    "ax.scatter(diasNovos, taxaCubica)"
   ]
  }
 ],
 "metadata": {
  "kernelspec": {
   "display_name": "base",
   "language": "python",
   "name": "python3"
  },
  "language_info": {
   "codemirror_mode": {
    "name": "ipython",
    "version": 3
   },
   "file_extension": ".py",
   "mimetype": "text/x-python",
   "name": "python",
   "nbconvert_exporter": "python",
   "pygments_lexer": "ipython3",
   "version": "3.10.9"
  },
  "orig_nbformat": 4
 },
 "nbformat": 4,
 "nbformat_minor": 2
}
